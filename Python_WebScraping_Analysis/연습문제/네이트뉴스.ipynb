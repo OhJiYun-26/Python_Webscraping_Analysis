{
 "cells": [
  {
   "cell_type": "code",
   "execution_count": 8,
   "id": "57b44121",
   "metadata": {},
   "outputs": [],
   "source": [
    "import requests\n",
    "from bs4 import BeautifulSoup\n",
    "from urllib.parse import urljoin\n",
    "from IPython.display import Image, display\n",
    "\n",
    "section_dict = {\n",
    "    \"최신뉴스\": \"n0100\",\n",
    "    \"정치\": \"n0201\",\n",
    "    \"경제\": \"n0300\",\n",
    "    \"사회\": \"n0400\",\n",
    "    \"세계\": \"n0502\",\n",
    "    \"IT/과학\": \"n0600\"\n",
    "}\n",
    "\n",
    "def print_nate_news(section):\n",
    "    if section not in section_dict:\n",
    "        print(f\"❌ 지원하지 않는 섹션입니다: {section}\")\n",
    "        print(f\"✅ 가능한 섹션: {list(section_dict.keys())}\")\n",
    "        return\n",
    "\n",
    "    base_url = \"https://news.nate.com\"\n",
    "    section_code = section_dict[section]\n",
    "    url = f\"{base_url}/recent?mid={section_code}\"\n",
    "\n",
    "    headers = {\"User-Agent\": \"Mozilla/5.0\"}\n",
    "    res = requests.get(url, headers=headers)\n",
    "    res.encoding = \"euc-kr\"  # <- 여기가 핵심!!\n",
    "\n",
    "    soup = BeautifulSoup(res.text, \"html.parser\")\n",
    "    articles = soup.select(\"div.mlt01 a[href*='news.nate.com/view/']\")\n",
    "\n",
    "    if not articles:\n",
    "        print(\"❗ 뉴스 기사를 찾을 수 없습니다.\")\n",
    "        return\n",
    "\n",
    "    print(f\"\\n📰 [{section}] 뉴스 - {url}\\n\")\n",
    "    for idx, a_tag in enumerate(articles[:10], 1):\n",
    "        link = urljoin(base_url, a_tag['href'])\n",
    "        title_tag = a_tag.select_one(\"h2.tit\")\n",
    "        title = title_tag.get_text(strip=True) if title_tag else a_tag.get_text(strip=True)\n",
    "\n",
    "        # img: 바로 a태그 자식/하위에 없으니, 부모 div에서 탐색\n",
    "        art_div = a_tag.find_parent(\"div\", class_=\"mlt01\")\n",
    "        img_tag = art_div.select_one(\"img\") if art_div else None\n",
    "        img_url = urljoin(base_url, img_tag['src']) if img_tag else None\n",
    "\n",
    "        print(f\"{idx}. {title}\")\n",
    "        print(f\"👉 링크: {link}\")\n",
    "        if img_url:\n",
    "            print(f\"🖼 이미지: {img_url}\")\n",
    "            display(Image(url=img_url))\n",
    "        else:\n",
    "            print(\"🚫 이미지 없음\")\n",
    "        print()\n",
    "\n"
   ]
  },
  {
   "cell_type": "code",
   "execution_count": 10,
   "id": "be2cd1d2",
   "metadata": {},
   "outputs": [
    {
     "name": "stdout",
     "output_type": "stream",
     "text": [
      "\n",
      "📰 [정치] 뉴스 - https://news.nate.com/recent?mid=n0201\n",
      "\n",
      "1. 임명장 및 위촉장 수여식\n",
      "👉 링크: https://news.nate.com/view/20250723n13012?mid=n0201\n",
      "🖼 이미지: https://thumbnews.nateimg.co.kr/news90///news.nateimg.co.kr/orgImg/ns/2025/07/23/NISI20250723_0020900413_web.jpg\n"
     ]
    },
    {
     "data": {
      "text/html": [
       "<img src=\"https://thumbnews.nateimg.co.kr/news90///news.nateimg.co.kr/orgImg/ns/2025/07/23/NISI20250723_0020900413_web.jpg\"/>"
      ],
      "text/plain": [
       "<IPython.core.display.Image object>"
      ]
     },
     "metadata": {},
     "output_type": "display_data"
    },
    {
     "name": "stdout",
     "output_type": "stream",
     "text": [
      "\n",
      "2. 민주당 \"양곡법 8월4일 처리…방송4법 처리 시점은 미확정\"\n",
      "👉 링크: https://news.nate.com/view/20250723n12977?mid=n0201\n",
      "🖼 이미지: https://thumbnews.nateimg.co.kr/news90///news.nateimg.co.kr/orgImg/mt/2025/07/23/2025072310162196811_1.jpg\n"
     ]
    },
    {
     "data": {
      "text/html": [
       "<img src=\"https://thumbnews.nateimg.co.kr/news90///news.nateimg.co.kr/orgImg/mt/2025/07/23/2025072310162196811_1.jpg\"/>"
      ],
      "text/plain": [
       "<IPython.core.display.Image object>"
      ]
     },
     "metadata": {},
     "output_type": "display_data"
    },
    {
     "name": "stdout",
     "output_type": "stream",
     "text": [
      "\n",
      "3. 국힘 장동혁,당대표 출마 선언…\"탄핵찬성 용납 못해\"\n",
      "👉 링크: https://news.nate.com/view/20250723n12973?mid=n0201\n",
      "🖼 이미지: https://thumbnews.nateimg.co.kr/news90///news.nateimg.co.kr/orgImg/ob/2025/07/23/1491073_690473_591.jpg\n"
     ]
    },
    {
     "data": {
      "text/html": [
       "<img src=\"https://thumbnews.nateimg.co.kr/news90///news.nateimg.co.kr/orgImg/ob/2025/07/23/1491073_690473_591.jpg\"/>"
      ],
      "text/plain": [
       "<IPython.core.display.Image object>"
      ]
     },
     "metadata": {},
     "output_type": "display_data"
    },
    {
     "name": "stdout",
     "output_type": "stream",
     "text": [
      "\n",
      "4. \"측근 인사 강행 이재명 대통령…'파란 윤석열' 우려 나와\"\n",
      "👉 링크: https://news.nate.com/view/20250723n12972?mid=n0201\n",
      "🖼 이미지: https://thumbnews.nateimg.co.kr/news90///news.nateimg.co.kr/orgImg/dn/2025/07/23/news_1753235387_1526610_m_1.jpg\n"
     ]
    },
    {
     "data": {
      "text/html": [
       "<img src=\"https://thumbnews.nateimg.co.kr/news90///news.nateimg.co.kr/orgImg/dn/2025/07/23/news_1753235387_1526610_m_1.jpg\"/>"
      ],
      "text/plain": [
       "<IPython.core.display.Image object>"
      ]
     },
     "metadata": {},
     "output_type": "display_data"
    },
    {
     "name": "stdout",
     "output_type": "stream",
     "text": [
      "\n",
      "5. 북한, 평양 온 세계야구연맹 회장 앞에서 추억의 '짬뽕' 주먹야구를?\n",
      "👉 링크: https://news.nate.com/view/20250723n12957?mid=n0201\n",
      "🖼 이미지: https://thumbnews.nateimg.co.kr/news90///news.nateimg.co.kr/orgImg/mk/2025/07/23/news-p.v1.20250723.05bf537fd9fb4ac0926e2550f3801dc9_P1.png\n"
     ]
    },
    {
     "data": {
      "text/html": [
       "<img src=\"https://thumbnews.nateimg.co.kr/news90///news.nateimg.co.kr/orgImg/mk/2025/07/23/news-p.v1.20250723.05bf537fd9fb4ac0926e2550f3801dc9_P1.png\"/>"
      ],
      "text/plain": [
       "<IPython.core.display.Image object>"
      ]
     },
     "metadata": {},
     "output_type": "display_data"
    },
    {
     "name": "stdout",
     "output_type": "stream",
     "text": [
      "\n",
      "6. 여야, 국힘 몫 인권위원 선출안 본회의 상정 보류\n",
      "👉 링크: https://news.nate.com/view/20250723n12954?mid=n0201\n",
      "🖼 이미지: https://thumbnews.nateimg.co.kr/news90///news.nateimg.co.kr/orgImg/hr/2025/07/23/rcv.YNA.20250723.PYH2025072304780001300_P1.jpg\n"
     ]
    },
    {
     "data": {
      "text/html": [
       "<img src=\"https://thumbnews.nateimg.co.kr/news90///news.nateimg.co.kr/orgImg/hr/2025/07/23/rcv.YNA.20250723.PYH2025072304780001300_P1.jpg\"/>"
      ],
      "text/plain": [
       "<IPython.core.display.Image object>"
      ]
     },
     "metadata": {},
     "output_type": "display_data"
    },
    {
     "name": "stdout",
     "output_type": "stream",
     "text": [
      "\n",
      "7. '780억 상환 지연' 루멘페이먼츠 대표 징역 15년·추징금 408억원\n",
      "👉 링크: https://news.nate.com/view/20250723n12944?mid=n0201\n",
      "🖼 이미지: https://thumbnews.nateimg.co.kr/news90///news.nateimg.co.kr/orgImg/ni/2025/07/23/1808291711507200_w.jpg\n"
     ]
    },
    {
     "data": {
      "text/html": [
       "<img src=\"https://thumbnews.nateimg.co.kr/news90///news.nateimg.co.kr/orgImg/ni/2025/07/23/1808291711507200_w.jpg\"/>"
      ],
      "text/plain": [
       "<IPython.core.display.Image object>"
      ]
     },
     "metadata": {},
     "output_type": "display_data"
    },
    {
     "name": "stdout",
     "output_type": "stream",
     "text": [
      "\n",
      "8. [포토] 동료 의원들과 인사하는 주진우\n",
      "👉 링크: https://news.nate.com/view/20250723n12931?mid=n0201\n",
      "🖼 이미지: https://thumbnews.nateimg.co.kr/news90///news.nateimg.co.kr/orgImg/in/2025/07/23/f2e1fc6d4ee3f4.jpg\n"
     ]
    },
    {
     "data": {
      "text/html": [
       "<img src=\"https://thumbnews.nateimg.co.kr/news90///news.nateimg.co.kr/orgImg/in/2025/07/23/f2e1fc6d4ee3f4.jpg\"/>"
      ],
      "text/plain": [
       "<IPython.core.display.Image object>"
      ]
     },
     "metadata": {},
     "output_type": "display_data"
    },
    {
     "name": "stdout",
     "output_type": "stream",
     "text": [
      "\n",
      "9. 이재명 대통령, 임명장 및 위촉장 수여식 참석\n",
      "👉 링크: https://news.nate.com/view/20250723n12925?mid=n0201\n",
      "🖼 이미지: https://thumbnews.nateimg.co.kr/news90///news.nateimg.co.kr/orgImg/yt/2025/07/23/PYH2025072305480001300_P2.jpg\n"
     ]
    },
    {
     "data": {
      "text/html": [
       "<img src=\"https://thumbnews.nateimg.co.kr/news90///news.nateimg.co.kr/orgImg/yt/2025/07/23/PYH2025072305480001300_P2.jpg\"/>"
      ],
      "text/plain": [
       "<IPython.core.display.Image object>"
      ]
     },
     "metadata": {},
     "output_type": "display_data"
    },
    {
     "name": "stdout",
     "output_type": "stream",
     "text": [
      "\n",
      "10. '강선우 부적합' 60%로 적합의 두배…李 정권에 부담 우려 현실화\n",
      "👉 링크: https://news.nate.com/view/20250723n12924?mid=n0201\n",
      "🖼 이미지: https://thumbnews.nateimg.co.kr/news90///news.nateimg.co.kr/orgImg/ni/2025/07/23/2507211802009650_w.jpg\n"
     ]
    },
    {
     "data": {
      "text/html": [
       "<img src=\"https://thumbnews.nateimg.co.kr/news90///news.nateimg.co.kr/orgImg/ni/2025/07/23/2507211802009650_w.jpg\"/>"
      ],
      "text/plain": [
       "<IPython.core.display.Image object>"
      ]
     },
     "metadata": {},
     "output_type": "display_data"
    },
    {
     "name": "stdout",
     "output_type": "stream",
     "text": [
      "\n"
     ]
    }
   ],
   "source": [
    "print_nate_news(\"정치\")"
   ]
  }
 ],
 "metadata": {
  "kernelspec": {
   "display_name": "base",
   "language": "python",
   "name": "python3"
  },
  "language_info": {
   "codemirror_mode": {
    "name": "ipython",
    "version": 3
   },
   "file_extension": ".py",
   "mimetype": "text/x-python",
   "name": "python",
   "nbconvert_exporter": "python",
   "pygments_lexer": "ipython3",
   "version": "3.12.7"
  }
 },
 "nbformat": 4,
 "nbformat_minor": 5
}
