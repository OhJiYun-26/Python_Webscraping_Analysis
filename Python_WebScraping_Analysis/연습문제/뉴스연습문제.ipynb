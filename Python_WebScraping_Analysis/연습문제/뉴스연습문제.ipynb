{
 "cells": [
  {
   "cell_type": "code",
   "execution_count": 2,
   "id": "7f918712",
   "metadata": {},
   "outputs": [],
   "source": [
    "import requests\n",
    "from bs4 import BeautifulSoup\n",
    "\n",
    "section_dict = {\n",
    "    '정치': 'politics',\n",
    "    '경제': 'economic',\n",
    "    '사회': 'society',\n",
    "    '생활/문화': 'culture',\n",
    "    '세계': 'foreign',\n",
    "    'IT/과학': 'digital'\n",
    "}\n",
    "\n",
    "def print_daum_news(section):\n",
    "    if section not in section_dict:\n",
    "        print(f\"⚠️ 지원하지 않는 섹션: {section}\")\n",
    "        print(f\"✅ 지원 섹션: {list(section_dict.keys())}\")\n",
    "        return\n",
    "    \n",
    "    sid = section_dict[section]\n",
    "    url = f'https://news.daum.net/breakingnews/{sid}'\n",
    "    print(f'\\n📰 [{section}] 뉴스 - {url}\\n')\n",
    "\n",
    "    headers = {\n",
    "        \"User-Agent\": \"Mozilla/5.0 (Windows NT 10.0; Win64; x64) AppleWebKit/537.36 (KHTML, like Gecko) Chrome/91.0.4472.124 Safari/537.36\"\n",
    "    }\n",
    "\n",
    "    try:\n",
    "    \n",
    "        res = requests.get(url, headers=headers)\n",
    "        res.encoding = 'utf-8'  \n",
    "        soup = BeautifulSoup(res.text, 'html.parser')\n",
    "        \n",
    "        articles = soup.select(\"a[data-tiara-layer='news']\")\n",
    "        \n",
    "        if not articles:\n",
    "            print(\"❌ 기사를 찾을 수 없습니다.\")\n",
    "            return\n",
    "\n",
    "        for idx, article in enumerate(articles[:10], 1):\n",
    "            title = article.get_text(strip=True)\n",
    "            link = article['href']\n",
    "            print(f\"{idx}. {title}\\n   → {link}\\n\")\n",
    "\n",
    "    except Exception as e:\n",
    "        print(f\"🚨 오류: {str(e)}\")\n"
   ]
  },
  {
   "cell_type": "code",
   "execution_count": null,
   "id": "d1b47826",
   "metadata": {},
   "outputs": [
    {
     "name": "stdout",
     "output_type": "stream",
     "text": [
      "\n",
      "📰 [정치] 뉴스 - https://news.daum.net/breakingnews/politics\n",
      "\n",
      "1. [현장] 당권 레이스 본격화…'듣고 싶어서' 나선 안철수, 중원 민심 공략폭우가 할퀴고 충남 예산군 일대는 그야말로 처참한 모습이었다. 국민의힘 전당대회 당대표 출마를 선언한 안철수 국민의힘 의원은 당권주자로서 본격적인 행보에 나선 첫날부터 예산에서 수해 복구 현장을 살피며 비지땀을 흘렸다. 충남도의 호우피해 및 응급복구 보고서에 집계된 자료에 따르면, 충남은 이번 폭우로 3명이 숨지고 5명이 다쳤다. 피해액 규모만 931억4데일리안14분 전\n",
      "   → https://v.daum.net/v/20250723001141390\n",
      "\n",
      "2. 트럼프, 유네스코 탈퇴 결정…바이든 재가입 2년만에 뒤집기(종합)연합뉴스30분 전\n",
      "   → https://v.daum.net/v/20250722235549035\n",
      "\n",
      "3. 송도 피격 유족 \"피의자에게 참작할 어떠한 동기도 있을 수 없어\"뉴스148분 전\n",
      "   → https://v.daum.net/v/20250722233727942\n",
      "\n",
      "4. 동영상강선우 보고서 재송부 요청...이번 주 내 임명할 듯YTN3시간 전\n",
      "   → https://v.daum.net/v/20250722214313571\n",
      "\n",
      "5. 소비쿠폰 쓰려다가 '화들짝'…\"여기서는 못써요\" 응답에 '당황'한 소비자아시아경제4시간 전\n",
      "   → https://v.daum.net/v/20250722204242273\n",
      "\n",
      "6. 강선우 감싸는 민주 지도부…물밑선 “여의도 감수성, 국민에 뒤처져”한겨레4시간 전\n",
      "   → https://v.daum.net/v/20250722203141032\n",
      "\n",
      "7. 동영상윤석열 돌연 \"정치탄압\" 입장문‥김건희 출석 임박하자?MBC5시간 전\n",
      "   → https://v.daum.net/v/20250722195213116\n",
      "\n",
      "8. 트럼프는 왜 탈중앙화된 통화를 원하나 : 스테이블코인의 본질더스쿠프5시간 전\n",
      "   → https://v.daum.net/v/20250722192831557\n",
      "\n",
      "9. 李대통령 \"민생쿠폰은 소비회복, 추가 프로그램 준비\"…소비쿠폰 '깡' 주의(종합)아시아경제6시간 전\n",
      "   → https://v.daum.net/v/20250722183541061\n",
      "\n",
      "10. [이은혜의 마음 읽기] 일 잘하는 사람“좋은 것은 야무진 것, 계속 견디는 것, 상태를 잘 유지하는 것이다. 마음이 좋지만 통찰력과 추진력이 없는 사람을 뜻하는 말과는 구분된다.” 이건 하이데거가 한 말로, 일 잘하는 사람에 대한 정의라고도 할 수 있다. 내가 만난 이들 중 야무지고 끊임없이 견디며 누구보다 좋은 상태를 견지하는 사람은 바로 『악녀서』를 쓴 천쉐다. 작가가 일을 잘한다는 것은중앙일보8분 전\n",
      "   → https://v.daum.net/v/20250723001806502\n",
      "\n"
     ]
    }
   ],
   "source": [
    "print_daum_news('정치')  \n",
    "    "
   ]
  }
 ],
 "metadata": {
  "kernelspec": {
   "display_name": "base",
   "language": "python",
   "name": "python3"
  },
  "language_info": {
   "codemirror_mode": {
    "name": "ipython",
    "version": 3
   },
   "file_extension": ".py",
   "mimetype": "text/x-python",
   "name": "python",
   "nbconvert_exporter": "python",
   "pygments_lexer": "ipython3",
   "version": "3.12.7"
  }
 },
 "nbformat": 4,
 "nbformat_minor": 5
}
